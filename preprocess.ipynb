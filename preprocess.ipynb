{
 "cells": [
  {
   "cell_type": "code",
   "execution_count": 4,
   "id": "643c66dc",
   "metadata": {},
   "outputs": [],
   "source": [
    "import pandas as pd\n",
    "import geopandas as gpd\n",
    "import fiona"
   ]
  },
  {
   "cell_type": "code",
   "execution_count": 3,
   "id": "2223113a",
   "metadata": {},
   "outputs": [],
   "source": [
    "df = pd.read_csv('/Users/nicholashorton/Documents/GIS Research Project/Advanced Search 7-31-2025.csv')"
   ]
  },
  {
   "cell_type": "code",
   "execution_count": 14,
   "id": "88a53e67",
   "metadata": {},
   "outputs": [
    {
     "name": "stdout",
     "output_type": "stream",
     "text": [
      "['HouseFinal_Withou_Statistics', 'OLS_Coefficient', 'OLS_Diagnostic', 'HouseFinal_SpatialOutlierDetection', 'HouseFinal_SpatialOutlierDetection1', 'tl_2019_12_tract_Project', 'Census_Tracts', 'Census_Tracts_XYTableToPoint', 'HouseFinal_SpatialOutlierDetection2', 'HouseFinal', 'HouseFinal_OrdinaryLeastSquares', 'HouseFinal_GWR', 'HouseFinal_HotSpots', 'test', 'test_label', 'Random_Sample', 'Random_Sample_GWR', 'Random_Sample_GWR2', 'Random_Sample_MGWR', 'Random_Sample_OrdinaryLeastSquares']\n"
     ]
    }
   ],
   "source": [
    "# List all layers in the geodatabase\n",
    "gdb_path = \"Final_Project/Final_Project.gdb\"\n",
    "layers = fiona.listlayers(gdb_path)\n",
    "print(layers)\n",
    "\n",
    "# # Read a specific layer\n",
    "gdf = gpd.read_file(gdb_path, layer=\"HouseFinal\")"
   ]
  },
  {
   "cell_type": "markdown",
   "id": "bf549928",
   "metadata": {},
   "source": [
    "# Clean up df"
   ]
  },
  {
   "cell_type": "code",
   "execution_count": 17,
   "id": "eb1310f9",
   "metadata": {},
   "outputs": [
    {
     "data": {
      "text/plain": [
       "Index(['PARCEL_NUMBER', 'TOTAL_LIVING_SQFT', 'TOTAL_GROSS_SQFT', 'CENSUS',\n",
       "       'YEAR_BUILT_BLD1', 'TOTAL_LIVING_UNITS', 'ACREAGE', 'CNTY_JST_VALUE',\n",
       "       'CNTY_ASD_VALUE', 'CNTY_TAXABLE_VALUE', 'JUST_LAND', 'JUST_BUILDING',\n",
       "       'JUST_EXTRA_FEATURES', 'PROPERTY_USE', 'SALES_DATE', 'PRICE', 'SEAWALL',\n",
       "       'FRONTAGE', 'VIEWS', 'SUBSIDENCE_YN', 'DLHL_YN', 'FLOOR_NUM',\n",
       "       'LAND_USE', 'EVAC_ZONE', 'TOTAL_BUILDINGS', 'POOL', 'WATERFRONT_YN',\n",
       "       'XFEAT_DESCRIPTION', 'HEATED_AREA_SQFT', 'GROSS_AREA_SQFT', 'QUALITY',\n",
       "       'DPR_BLD_VAL', 'BALCONY_PORCH', 'CLUBHOUSE', 'COMPLEX_VIEW',\n",
       "       'EFFECTIVE_AGE', 'COOLING', 'UNIT_VIEW', 'EXTERIOR_WALLS', 'HEATING',\n",
       "       'LIVING_UNITS', 'MARINA', 'PARKING_GARAGE', 'ROOF_COVER', 'TENNIS',\n",
       "       'LOCATION'],\n",
       "      dtype='object')"
      ]
     },
     "execution_count": 17,
     "metadata": {},
     "output_type": "execute_result"
    }
   ],
   "source": [
    "df.columns"
   ]
  },
  {
   "cell_type": "code",
   "execution_count": null,
   "id": "015a0d3a",
   "metadata": {},
   "outputs": [],
   "source": []
  },
  {
   "cell_type": "code",
   "execution_count": null,
   "id": "48a81e8a",
   "metadata": {},
   "outputs": [],
   "source": []
  },
  {
   "cell_type": "markdown",
   "id": "e68dfa28",
   "metadata": {},
   "source": [
    "# Clean up gdf"
   ]
  },
  {
   "cell_type": "code",
   "execution_count": null,
   "id": "6f97019f",
   "metadata": {},
   "outputs": [],
   "source": []
  },
  {
   "cell_type": "code",
   "execution_count": null,
   "id": "6962b951",
   "metadata": {},
   "outputs": [],
   "source": [
    "columns_to_drop = [\n",
    "    'CENSUS','JUST_LAND', 'JUST_BUILDING',\n",
    "       'JUST_EXTRA_FEATURES','EVAC_ZONE'\n",
    "]\n",
    "\n",
    "# Drop unwanted columns\n",
    "df = df.drop(columns=columns_to_drop, errors='ignore')\n",
    "\n",
    "# Columns to fill missing values and create dummies\n",
    "cat_cols = [\n",
    "    'FRONTAGE', 'VIEWS', 'SUBSIDENCE_YN', 'DLHL_YN', 'EVAC_ZONE', 'POOL', 'WATERFRONT_YN', 'QUALITY', 'BALCONY_PORCH',\n",
    "    'CLUBHOUSE', 'COMPLEX_VIEW', 'COOLING', 'UNIT_VIEW', 'EXTERIOR_WALLS', 'HEATING', 'LIVING_UNITS', 'MARINA',\n",
    "    'PARKING_GARAGE', 'ROOF_COVER', 'TENNIS', 'SEAWALL'\n",
    "]\n",
    "\n",
    "# Fill missing values with the string \"None\"\n",
    "for col in cat_cols:\n",
    "    if col in df.columns:\n",
    "        df[col] = df[col].fillna(\"None\")\n",
    "\n",
    "# Create dummy variables\n",
    "df = pd.get_dummies(df, columns=[col for col in cat_cols if col in df.columns], drop_first=True)\n",
    "\n",
    "# Remove outliers in PRICE (e.g., using IQR)\n",
    "if 'PRICE' in df.columns:\n",
    "    Q1 = df['PRICE'].quantile(0.25)\n",
    "    Q3 = df['PRICE'].quantile(0.75)\n",
    "    IQR = Q3 - Q1\n",
    "    lower = Q1 - 1.5 * IQR\n",
    "    upper = Q3 + 1.5 * IQR\n",
    "    df = df[(df['PRICE'] >= lower) & (df['PRICE'] <= upper)]\n",
    "\n",
    "# Join with gdf on parcel number (replace 'PARCELID' with your actual join key)\n",
    "if 'PARCEL_NUMBER' in df.columns and 'PARCEL_NUMBER' in gdf.columns:\n",
    "    merged = df.merge(gdf, on='PARCEL_NUMBER', how='inner')\n",
    "else:\n",
    "    print(\"PARCEL_NUMBER column not found in both dataframes for join.\")"
   ]
  },
  {
   "cell_type": "markdown",
   "id": "6be68c16",
   "metadata": {},
   "source": [
    "# Join distance featrues to dataframe"
   ]
  },
  {
   "cell_type": "code",
   "execution_count": null,
   "id": "83bf4c56",
   "metadata": {},
   "outputs": [],
   "source": [
    "sf = sf[sf['QU_FLG'] == 'Q']\n",
    "sf = sf[sf['PRICE'] > 100]\n",
    "\n",
    "sf['FRONTAGE'] = sf['FRONTAGE'].fillna('No Frontage')\n",
    "sf['VIEWS'] = sf['VIEWS'].fillna('No View')\n",
    "\n",
    "sf['SEAWALL'] = sf['SEAWALL'].map({'Yes': 1, 'No': 0})\n",
    "sf['DLHL_YN'] = sf['DLHL_YN'].map({'Y': 1, 'N': 0})\n",
    "sf['POOL'] = sf['POOL'].map({'Y': 1, 'N': 0})\n",
    "sf['WATERFRONT_YN'] = sf['WATERFRONT_YN'].map({'Y': 1, 'N': 0})\n",
    "sf['CLUBHOUSE'] = sf['CLUBHOUSE'].map({'Yes': 1, 'No': 0})\n",
    "sf['MARINA'] = sf['MARINA'].map({'Yes': 1, 'No': 0})\n",
    "sf['TENNIS'] = sf['TENNIS'].map({'Yes': 1, 'No': 0})"
   ]
  },
  {
   "cell_type": "code",
   "execution_count": null,
   "id": "93d7079e",
   "metadata": {},
   "outputs": [],
   "source": [
    "import matplotlib.pyplot as plt\n",
    "import seaborn as sns\n",
    "import numpy as np\n",
    "from statsmodels.stats.outliers_influence import variance_inflation_factor\n",
    "\n",
    "# 1. Basic info and summary\n",
    "print(\"DataFrame shape:\", df.shape)\n",
    "display(df.head())\n",
    "display(df.describe(include='all'))\n",
    "\n",
    "# 2. Distribution of target variable\n",
    "plt.figure(figsize=(8,4))\n",
    "sns.histplot(df['PRICE'], kde=True)\n",
    "plt.title('Distribution of PRICE')\n",
    "plt.show()\n",
    "\n",
    "# 3. Correlation matrix (all numeric columns)\n",
    "corr = df.corr(numeric_only=True)\n",
    "plt.figure(figsize=(12,8))\n",
    "sns.heatmap(corr, annot=True, fmt=\".2f\", cmap='coolwarm')\n",
    "plt.title('Correlation Matrix')\n",
    "plt.show()\n",
    "\n",
    "# 4. Correlation of each variable with target\n",
    "target_corr = corr['PRICE'].sort_values(ascending=False)\n",
    "print(\"Correlation of each variable with PRICE:\")\n",
    "display(target_corr)\n",
    "\n",
    "# 5. Pairplot for top correlated features\n",
    "top_corr_features = target_corr[1:6].index  # top 5 features (excluding PRICE itself)\n",
    "sns.pairplot(df, vars=top_corr_features.insert(0, 'PRICE'))\n",
    "plt.show()\n",
    "\n",
    "# 6. Boxplots for categorical variables (if not too many)\n",
    "cat_vars = [col for col in df.columns if df[col].dtype == 'object']\n",
    "for col in cat_vars[:5]:  # show for first 5 categorical variables\n",
    "    plt.figure(figsize=(8,4))\n",
    "    sns.boxplot(x=col, y='PRICE', data=df)\n",
    "    plt.title(f'PRICE by {col}')\n",
    "    plt.xticks(rotation=45)\n",
    "    plt.show()\n",
    "\n",
    "# 7. Variance Inflation Factor (VIF) for multicollinearity\n",
    "# Only use numeric columns and drop rows with NA\n",
    "X = df.select_dtypes(include=[np.number]).dropna()\n",
    "vif_data = pd.DataFrame()\n",
    "vif_data[\"feature\"] = X.columns\n",
    "vif_data[\"VIF\"] = [variance_inflation_factor(X.values, i) for i in range(X.shape[1])]\n",
    "display(vif_data.sort_values(\"VIF\", ascending=False))\n",
    "\n",
    "# 8. Missing values heatmap\n",
    "plt.figure(figsize=(12,6))\n",
    "sns.heatmap(df.isnull(), cbar=False, yticklabels=False)\n",
    "plt.title('Missing Values Heatmap')\n",
    "plt.show()"
   ]
  },
  {
   "cell_type": "code",
   "execution_count": null,
   "id": "9ccd34a3",
   "metadata": {},
   "outputs": [],
   "source": [
    "from sklearn.linear_model import LinearRegression\n",
    "from sklearn.model_selection import train_test_split\n",
    "from sklearn.metrics import mean_squared_error, r2_score\n",
    "\n",
    "# 1. Select top 5 features most correlated with PRICE\n",
    "top_features = target_corr.index[1:6].tolist()  # Exclude 'PRICE' itself\n",
    "\n",
    "# 2. Prepare data for regression\n",
    "X = df[top_features]\n",
    "y = df['PRICE']\n",
    "\n",
    "# Split data\n",
    "X_train, X_test, y_train, y_test = train_test_split(X, y, test_size=0.2, random_state=42)\n",
    "\n",
    "# 3. Fit linear regression\n",
    "lr = LinearRegression()\n",
    "lr.fit(X_train, y_train)\n",
    "y_pred = lr.predict(X_test)\n",
    "\n",
    "# 4. Evaluate\n",
    "print(\"Linear Regression Results:\")\n",
    "print(\"R^2:\", r2_score(y_test, y_pred))\n",
    "print(\"RMSE:\", np.sqrt(mean_squared_error(y_test, y_pred)))\n",
    "print(\"Coefficients:\", dict(zip(top_features, lr.coef_)))\n",
    "\n",
    "# 5. Geographically Weighted Regression (GWR)\n",
    "# Requires mgwr: pip install mgwr\n",
    "from mgwr.gwr import GWR, Sel_BW\n",
    "\n",
    "# You need coordinates for GWR. If you have geometry, extract centroid x/y.\n",
    "if 'geometry' in gdf.columns:\n",
    "    gdf['x'] = gdf.geometry.centroid.x\n",
    "    gdf['y'] = gdf.geometry.centroid.y\n",
    "    # Merge coordinates into df\n",
    "    df_coords = gdf[['PARCEL_NUMBER', 'x', 'y']]\n",
    "    df = df.merge(df_coords, on='PARCEL_NUMBER', how='left')\n",
    "elif 'x' in df.columns and 'y' in df.columns:\n",
    "    pass  # Already present\n",
    "else:\n",
    "    raise ValueError(\"No coordinates found for GWR.\")\n",
    "\n",
    "coords = df[['x', 'y']].values\n",
    "\n",
    "# Prepare X and y for GWR (must be numpy arrays, no NA)\n",
    "X_gwr = df[top_features].values\n",
    "y_gwr = df['PRICE'].values.reshape(-1, 1)\n",
    "\n",
    "# Select bandwidth\n",
    "bw = Sel_BW(coords, y_gwr, X_gwr).search()\n",
    "\n",
    "# Fit GWR\n",
    "gwr_model = GWR(coords, y_gwr, X_gwr, bw)\n",
    "gwr_results = gwr_model.fit()\n",
    "\n",
    "print(\"GWR Results:\")\n",
    "print(\"GWR R^2:\", gwr_results.R2)\n",
    "print(\"GWR Adj. R^2:\", gwr_results.adj_R2)\n",
    "print(\"GWR Coefficients (first 5 rows):\")\n",
    "print(gwr_results.params[:5])"
   ]
  },
  {
   "cell_type": "code",
   "execution_count": null,
   "id": "30a0806b",
   "metadata": {},
   "outputs": [],
   "source": [
    "from mgwr.mgwr import MGWR\n",
    "from mgwr.sel_bw import Sel_BW as Sel_BW_MGWR\n",
    "\n",
    "# Prepare data (no missing values)\n",
    "mask = ~np.isnan(X_gwr).any(axis=1) & ~np.isnan(y_gwr).flatten() & ~np.isnan(coords).any(axis=1)\n",
    "X_mgwr = X_gwr[mask]\n",
    "y_mgwr = y_gwr[mask]\n",
    "coords_mgwr = coords[mask]\n",
    "\n",
    "# Select bandwidths for MGWR\n",
    "mgwr_bw = Sel_BW_MGWR(coords_mgwr, y_mgwr, X_mgwr, multi=True).search()\n",
    "\n",
    "# Fit MGWR\n",
    "mgwr_model = MGWR(coords_mgwr, y_mgwr, X_mgwr, mgwr_bw)\n",
    "mgwr_results = mgwr_model.fit()\n",
    "\n",
    "print(\"MGWR Results:\")\n",
    "print(\"MGWR R^2:\", mgwr_results.R2)\n",
    "print(\"MGWR Adj. R^2:\", mgwr_results.adj_R2)\n",
    "print(\"MGWR Bandwidths:\", mgwr_bw)\n",
    "print(\"MGWR Coefficients (first 5 rows):\")\n",
    "print(mgwr_results.params[:5])"
   ]
  }
 ],
 "metadata": {
  "kernelspec": {
   "display_name": "myenv",
   "language": "python",
   "name": "python3"
  },
  "language_info": {
   "codemirror_mode": {
    "name": "ipython",
    "version": 3
   },
   "file_extension": ".py",
   "mimetype": "text/x-python",
   "name": "python",
   "nbconvert_exporter": "python",
   "pygments_lexer": "ipython3",
   "version": "3.8.19"
  }
 },
 "nbformat": 4,
 "nbformat_minor": 5
}
