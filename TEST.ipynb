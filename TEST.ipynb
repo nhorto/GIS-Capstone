{
 "cells": [
  {
   "cell_type": "code",
   "execution_count": 7,
   "id": "58d27b7d",
   "metadata": {},
   "outputs": [],
   "source": [
    "import pandas as pd\n",
    "import geopandas as gpd\n",
    "import fiona"
   ]
  },
  {
   "cell_type": "code",
   "execution_count": 9,
   "id": "dfe406f8",
   "metadata": {},
   "outputs": [
    {
     "name": "stdout",
     "output_type": "stream",
     "text": [
      "['HouseFinal_Withou_Statistics', 'OLS_Coefficient', 'OLS_Diagnostic', 'HouseFinal_SpatialOutlierDetection', 'HouseFinal_SpatialOutlierDetection1', 'tl_2019_12_tract_Project', 'Census_Tracts', 'Census_Tracts_XYTableToPoint', 'HouseFinal_SpatialOutlierDetection2', 'HouseFinal', 'HouseFinal_OrdinaryLeastSquares', 'HouseFinal_GWR', 'HouseFinal_HotSpots', 'test', 'test_label', 'Random_Sample', 'Random_Sample_GWR', 'Random_Sample_GWR2', 'Random_Sample_MGWR', 'Random_Sample_OrdinaryLeastSquares']\n"
     ]
    }
   ],
   "source": [
    "\n",
    "# List all layers in the geodatabase\n",
    "gdb_path = \"Final_Project/Final_Project.gdb\"\n",
    "layers = fiona.listlayers(gdb_path)\n",
    "print(layers)\n",
    "\n",
    "# # Read a specific layer\n",
    "df = gpd.read_file(gdb_path, layer=\"HouseFinal\")"
   ]
  },
  {
   "cell_type": "code",
   "execution_count": 17,
   "id": "b3ed12cb",
   "metadata": {},
   "outputs": [],
   "source": [
    "df = pd.read_csv('merged_data.csv')"
   ]
  },
  {
   "cell_type": "code",
   "execution_count": 14,
   "id": "51d5c150",
   "metadata": {},
   "outputs": [
    {
     "name": "stderr",
     "output_type": "stream",
     "text": [
      "/var/folders/n2/fnwtrxs13n10mlfx7sftx0t00000gn/T/ipykernel_34239/3755842714.py:1: DtypeWarning: Columns (45) have mixed types. Specify dtype option on import or set low_memory=False.\n",
      "  df = pd.read_csv('/Users/nicholashorton/Documents/GIS Research Project/Advanced Search 7-23-2025.csv')\n"
     ]
    }
   ],
   "source": [
    "df = pd.read_csv('/Users/nicholashorton/Documents/GIS Research Project/Advanced Search 7-23-2025.csv')"
   ]
  },
  {
   "cell_type": "code",
   "execution_count": 22,
   "id": "ffb486ef",
   "metadata": {},
   "outputs": [
    {
     "name": "stderr",
     "output_type": "stream",
     "text": [
      "/var/folders/n2/fnwtrxs13n10mlfx7sftx0t00000gn/T/ipykernel_34239/2049173357.py:1: DtypeWarning: Columns (40) have mixed types. Specify dtype option on import or set low_memory=False.\n",
      "  df = pd.read_csv('2025.csv')\n"
     ]
    }
   ],
   "source": [
    "df = pd.read_csv('2025.csv')\n",
    "df[:20000].to_csv('2025_20k.csv', index=False)"
   ]
  },
  {
   "cell_type": "code",
   "execution_count": 5,
   "id": "2f6bd504",
   "metadata": {},
   "outputs": [],
   "source": [
    "sf = df[df['PROPERTY_USE']== '0110 Single Family Home']"
   ]
  },
  {
   "cell_type": "markdown",
   "id": "43591636",
   "metadata": {},
   "source": [
    "# dropping unneeded columns\n",
    "these columns are either not needed or do not apply to single family homes such as unit view or balcony/porch. these seem to apply to \n",
    "appartments or condos"
   ]
  },
  {
   "cell_type": "code",
   "execution_count": null,
   "id": "491ed2b2",
   "metadata": {},
   "outputs": [],
   "source": [
    "sf = sf.drop(columns=['SPECIAL_ASSESSMENT','JUST_LAND','JUST_BUILDING','JUST_EXTRA_FEATURES','VAL','OR_BKPG',\n",
    "                      'FLOOR_NUM','BALCONY_PORCH','COMPLEX_VIEW','COOLING','UNIT_VIEW','PARKING_GARAGE'])"
   ]
  },
  {
   "cell_type": "code",
   "execution_count": 53,
   "id": "87d1cbc0",
   "metadata": {},
   "outputs": [
    {
     "data": {
      "application/vnd.microsoft.datawrangler.viewer.v0+json": {
       "columns": [
        {
         "name": "index",
         "rawType": "object",
         "type": "string"
        },
        {
         "name": "PRICE",
         "rawType": "float64",
         "type": "float"
        }
       ],
       "ref": "d064e0b9-f269-45d5-b962-dbf23733cc32",
       "rows": [
        [
         "count",
         "284199.0"
        ],
        [
         "mean",
         "246005.6698862417"
        ],
        [
         "std",
         "428261.239101169"
        ],
        [
         "min",
         "0.0"
        ],
        [
         "25%",
         "100.0"
        ],
        [
         "50%",
         "157000.0"
        ],
        [
         "75%",
         "336000.0"
        ],
        [
         "max",
         "32240000.0"
        ]
       ],
       "shape": {
        "columns": 1,
        "rows": 8
       }
      },
      "text/plain": [
       "count    2.841990e+05\n",
       "mean     2.460057e+05\n",
       "std      4.282612e+05\n",
       "min      0.000000e+00\n",
       "25%      1.000000e+02\n",
       "50%      1.570000e+05\n",
       "75%      3.360000e+05\n",
       "max      3.224000e+07\n",
       "Name: PRICE, dtype: float64"
      ]
     },
     "execution_count": 53,
     "metadata": {},
     "output_type": "execute_result"
    }
   ],
   "source": [
    "sf['PRICE'].describe()"
   ]
  },
  {
   "cell_type": "code",
   "execution_count": 58,
   "id": "4faaaa87",
   "metadata": {},
   "outputs": [
    {
     "data": {
      "application/vnd.microsoft.datawrangler.viewer.v0+json": {
       "columns": [
        {
         "name": "REA_CD_DSCR",
         "rawType": "object",
         "type": "string"
        },
        {
         "name": "count",
         "rawType": "int64",
         "type": "integer"
        }
       ],
       "ref": "6b689136-0825-4516-9506-13585cdd29e9",
       "rows": [
        [
         "11-Corrective, QC or Tax Deed or Minimum Doc Stamps",
         "31717"
        ],
        [
         "78-Certificate of Title\t",
         "187"
        ],
        [
         "19-Trustees in bankruptcy, executors, guardian, recv",
         "53"
        ],
        [
         "30-Affiliated parties: fam, corp, bus, landlord/ten",
         "39"
        ],
        [
         "70-Deed in lieu of Foreclosure\t",
         "20"
        ],
        [
         "18-Gov: Fed, St, local, muni, educ, shrf, court,TIITF",
         "12"
        ],
        [
         "12-Deeds to or from financial institutions",
         "10"
        ],
        [
         "98-Unable to process transfer due to deed or transfer instrument errors (examples: incomplete or incorrect legal description, incorrect grantor)",
         "8"
        ],
        [
         "21-Contract for deed, agreement for deed (does not include Warranty Deed associated with seller financing)",
         "7"
        ],
        [
         "79-Certificate of Title Multi\t",
         "5"
        ],
        [
         "17-Religious, charitable or benevolent organizations",
         "5"
        ],
        [
         "37-Sale not exposed to open market\t",
         "5"
        ],
        [
         "0-",
         "5"
        ],
        [
         "43-Transfer where the sale price (as the documentary stamps indicate) is verified to be an allocated price as part of a package or bulk transaction",
         "3"
        ],
        [
         "34-Satisfaction or pay in full of rec. prop contract",
         "3"
        ],
        [
         "U-Unqualified",
         "2"
        ],
        [
         "14-Conveying Life Estate or occupancy > 90 days",
         "2"
        ],
        [
         "39-Sale price different than doc stamp sale price\t",
         "2"
        ],
        [
         "40-Involves non-mkt fin. or assump of non-mkt lease\t",
         "2"
        ],
        [
         "Q-Qualified",
         "1"
        ]
       ],
       "shape": {
        "columns": 1,
        "rows": 20
       }
      },
      "text/plain": [
       "REA_CD_DSCR\n",
       "11-Corrective, QC or Tax Deed or Minimum Doc Stamps                                                                                                    31717\n",
       "78-Certificate of Title\\t                                                                                                                                187\n",
       "19-Trustees in bankruptcy, executors, guardian, recv                                                                                                      53\n",
       "30-Affiliated parties: fam, corp, bus, landlord/ten                                                                                                       39\n",
       "70-Deed in lieu of Foreclosure\\t                                                                                                                          20\n",
       "18-Gov: Fed, St, local, muni, educ, shrf, court,TIITF                                                                                                     12\n",
       "12-Deeds to or from financial institutions                                                                                                                10\n",
       "98-Unable to process transfer due to deed or transfer instrument errors (examples: incomplete or incorrect legal description, incorrect grantor)           8\n",
       "21-Contract for deed, agreement for deed (does not include Warranty Deed associated with seller financing)                                                 7\n",
       "79-Certificate of Title Multi\\t                                                                                                                            5\n",
       "17-Religious, charitable or benevolent organizations                                                                                                       5\n",
       "37-Sale not exposed to open market\\t                                                                                                                       5\n",
       "0-                                                                                                                                                         5\n",
       "43-Transfer where the sale price (as the documentary stamps indicate) is verified to be an allocated price as part of a package or bulk transaction        3\n",
       "34-Satisfaction or pay in full of rec. prop contract                                                                                                       3\n",
       "U-Unqualified                                                                                                                                              2\n",
       "14-Conveying Life Estate or occupancy > 90 days                                                                                                            2\n",
       "39-Sale price different than doc stamp sale price\\t                                                                                                        2\n",
       "40-Involves non-mkt fin. or assump of non-mkt lease\\t                                                                                                      2\n",
       "Q-Qualified                                                                                                                                                1\n",
       "Name: count, dtype: int64"
      ]
     },
     "execution_count": 58,
     "metadata": {},
     "output_type": "execute_result"
    }
   ],
   "source": [
    "sf[sf['PRICE'] < 100]['REA_CD_DSCR'].value_counts()"
   ]
  },
  {
   "cell_type": "code",
   "execution_count": 55,
   "id": "9441db0b",
   "metadata": {},
   "outputs": [
    {
     "data": {
      "application/vnd.microsoft.datawrangler.viewer.v0+json": {
       "columns": [
        {
         "name": "QU_FLG",
         "rawType": "object",
         "type": "string"
        },
        {
         "name": "count",
         "rawType": "int64",
         "type": "integer"
        }
       ],
       "ref": "d096d2f7-69bf-42c2-8fc2-29666c7d8634",
       "rows": [
        [
         "U",
         "32087"
        ],
        [
         "Q",
         "1"
        ]
       ],
       "shape": {
        "columns": 1,
        "rows": 2
       }
      },
      "text/plain": [
       "QU_FLG\n",
       "U    32087\n",
       "Q        1\n",
       "Name: count, dtype: int64"
      ]
     },
     "execution_count": 55,
     "metadata": {},
     "output_type": "execute_result"
    }
   ],
   "source": [
    "sf[sf['PRICE'] < 100]['QU_FLG'].value_counts()"
   ]
  },
  {
   "cell_type": "markdown",
   "id": "5e48f749",
   "metadata": {},
   "source": [
    "from what I can find, the QU_FLG field tells you whether the sale is considered a “qualified” (valid) market transaction. and all of these houses that have a sale price of $100 or lower\n",
    "are all unqualified execpt for one which i will also drop. "
   ]
  },
  {
   "cell_type": "code",
   "execution_count": 82,
   "id": "e7c36998",
   "metadata": {},
   "outputs": [],
   "source": [
    "sf = sf[sf['QU_FLG'] == 'Q']\n",
    "sf = sf[sf['PRICE'] > 100]"
   ]
  },
  {
   "cell_type": "code",
   "execution_count": 61,
   "id": "379c177e",
   "metadata": {},
   "outputs": [
    {
     "data": {
      "application/vnd.microsoft.datawrangler.viewer.v0+json": {
       "columns": [
        {
         "name": "index",
         "rawType": "object",
         "type": "string"
        },
        {
         "name": "PRICE",
         "rawType": "float64",
         "type": "float"
        }
       ],
       "ref": "3c0a5c7f-9ead-45fd-9469-a3671c339071",
       "rows": [
        [
         "count",
         "140130.0"
        ],
        [
         "mean",
         "422876.3833725826"
        ],
        [
         "std",
         "445449.8322710199"
        ],
        [
         "min",
         "2000.0"
        ],
        [
         "25%",
         "215000.0"
        ],
        [
         "50%",
         "319000.0"
        ],
        [
         "75%",
         "475000.0"
        ],
        [
         "max",
         "16500000.0"
        ]
       ],
       "shape": {
        "columns": 1,
        "rows": 8
       }
      },
      "text/plain": [
       "count    1.401300e+05\n",
       "mean     4.228764e+05\n",
       "std      4.454498e+05\n",
       "min      2.000000e+03\n",
       "25%      2.150000e+05\n",
       "50%      3.190000e+05\n",
       "75%      4.750000e+05\n",
       "max      1.650000e+07\n",
       "Name: PRICE, dtype: float64"
      ]
     },
     "execution_count": 61,
     "metadata": {},
     "output_type": "execute_result"
    }
   ],
   "source": [
    "sf['PRICE'].describe()"
   ]
  },
  {
   "cell_type": "code",
   "execution_count": 70,
   "id": "66abbe8d",
   "metadata": {},
   "outputs": [
    {
     "data": {
      "application/vnd.microsoft.datawrangler.viewer.v0+json": {
       "columns": [
        {
         "name": "FRONTAGE",
         "rawType": "object",
         "type": "string"
        },
        {
         "name": "count",
         "rawType": "int64",
         "type": "integer"
        }
       ],
       "ref": "92cef6a1-03be-46f5-8182-f726fc14da06",
       "rows": [
        [
         "Residential",
         "8152"
        ],
        [
         "Canal/River",
         "7421"
        ],
        [
         "Pond",
         "5926"
        ],
        [
         "Intracoastal",
         "2091"
        ],
        [
         "Park/Cons/Pres",
         "1861"
        ],
        [
         "Golf Course",
         "1657"
        ],
        [
         "Street",
         "1504"
        ],
        [
         "Gulf",
         "529"
        ],
        [
         "Tampa Bay",
         "485"
        ],
        [
         "Lake",
         "268"
        ],
        [
         "Commercial",
         "103"
        ],
        [
         "Parking",
         "4"
        ],
        [
         "Recreation Area",
         "2"
        ]
       ],
       "shape": {
        "columns": 1,
        "rows": 13
       }
      },
      "text/plain": [
       "FRONTAGE\n",
       "Residential        8152\n",
       "Canal/River        7421\n",
       "Pond               5926\n",
       "Intracoastal       2091\n",
       "Park/Cons/Pres     1861\n",
       "Golf Course        1657\n",
       "Street             1504\n",
       "Gulf                529\n",
       "Tampa Bay           485\n",
       "Lake                268\n",
       "Commercial          103\n",
       "Parking               4\n",
       "Recreation Area       2\n",
       "Name: count, dtype: int64"
      ]
     },
     "execution_count": 70,
     "metadata": {},
     "output_type": "execute_result"
    }
   ],
   "source": [
    "sf['FRONTAGE'].value_counts()"
   ]
  },
  {
   "cell_type": "code",
   "execution_count": 69,
   "id": "0bcb483a",
   "metadata": {},
   "outputs": [
    {
     "data": {
      "application/vnd.microsoft.datawrangler.viewer.v0+json": {
       "columns": [
        {
         "name": "VIEWS",
         "rawType": "object",
         "type": "string"
        },
        {
         "name": "count",
         "rawType": "int64",
         "type": "integer"
        }
       ],
       "ref": "dc0eb96c-a7cb-4fdb-b804-7ba2bc54d48b",
       "rows": [
        [
         "Park/Cons/Pres",
         "3213"
        ],
        [
         "Pond",
         "450"
        ],
        [
         "Golf Course",
         "326"
        ],
        [
         "Canal/River",
         "266"
        ],
        [
         "Intracoastal",
         "66"
        ],
        [
         "Gulf",
         "62"
        ],
        [
         "Lake",
         "25"
        ],
        [
         "Tampa Bay",
         "22"
        ],
        [
         "Ltd Intrcoastal",
         "9"
        ],
        [
         "Ltd Gulf",
         "1"
        ]
       ],
       "shape": {
        "columns": 1,
        "rows": 10
       }
      },
      "text/plain": [
       "VIEWS\n",
       "Park/Cons/Pres     3213\n",
       "Pond                450\n",
       "Golf Course         326\n",
       "Canal/River         266\n",
       "Intracoastal         66\n",
       "Gulf                 62\n",
       "Lake                 25\n",
       "Tampa Bay            22\n",
       "Ltd Intrcoastal       9\n",
       "Ltd Gulf              1\n",
       "Name: count, dtype: int64"
      ]
     },
     "execution_count": 69,
     "metadata": {},
     "output_type": "execute_result"
    }
   ],
   "source": [
    "sf['VIEWS'].value_counts()"
   ]
  },
  {
   "cell_type": "markdown",
   "id": "34b89b65",
   "metadata": {},
   "source": [
    "for frontage and views I am going to fill these in with either no view or no frontage."
   ]
  },
  {
   "cell_type": "code",
   "execution_count": 85,
   "id": "51a5d4c7",
   "metadata": {},
   "outputs": [],
   "source": [
    "sf['FRONTAGE'] = sf['FRONTAGE'].fillna('No Frontage')\n",
    "sf['VIEWS'] = sf['VIEWS'].fillna('No View')"
   ]
  },
  {
   "cell_type": "code",
   "execution_count": 86,
   "id": "8e6ef45a",
   "metadata": {},
   "outputs": [],
   "source": [
    "# drop remaining null values\n",
    "sf = sf.dropna()"
   ]
  },
  {
   "cell_type": "markdown",
   "id": "f7d99a58",
   "metadata": {},
   "source": [
    "# map yes/no fields to 1 and 0"
   ]
  },
  {
   "cell_type": "code",
   "execution_count": 84,
   "id": "2252c7d9",
   "metadata": {},
   "outputs": [
    {
     "data": {
      "application/vnd.microsoft.datawrangler.viewer.v0+json": {
       "columns": [
        {
         "name": "SEAWALL",
         "rawType": "object",
         "type": "string"
        },
        {
         "name": "count",
         "rawType": "int64",
         "type": "integer"
        }
       ],
       "ref": "81971b7d-ca36-4ddb-b35a-0d7aa7380582",
       "rows": [
        [
         "No",
         "130277"
        ],
        [
         "Yes",
         "9445"
        ]
       ],
       "shape": {
        "columns": 1,
        "rows": 2
       }
      },
      "text/plain": [
       "SEAWALL\n",
       "No     130277\n",
       "Yes      9445\n",
       "Name: count, dtype: int64"
      ]
     },
     "execution_count": 84,
     "metadata": {},
     "output_type": "execute_result"
    }
   ],
   "source": [
    "sf.SEAWALL.value_counts()"
   ]
  },
  {
   "cell_type": "code",
   "execution_count": 78,
   "id": "74bcb6ad",
   "metadata": {},
   "outputs": [
    {
     "name": "stderr",
     "output_type": "stream",
     "text": [
      "/var/folders/n2/fnwtrxs13n10mlfx7sftx0t00000gn/T/ipykernel_18213/400538200.py:1: SettingWithCopyWarning: \n",
      "A value is trying to be set on a copy of a slice from a DataFrame.\n",
      "Try using .loc[row_indexer,col_indexer] = value instead\n",
      "\n",
      "See the caveats in the documentation: https://pandas.pydata.org/pandas-docs/stable/user_guide/indexing.html#returning-a-view-versus-a-copy\n",
      "  sf['SEAWALL'] = sf['SEAWALL'].map({'Yes': 1, 'No': 0})\n",
      "/var/folders/n2/fnwtrxs13n10mlfx7sftx0t00000gn/T/ipykernel_18213/400538200.py:2: SettingWithCopyWarning: \n",
      "A value is trying to be set on a copy of a slice from a DataFrame.\n",
      "Try using .loc[row_indexer,col_indexer] = value instead\n",
      "\n",
      "See the caveats in the documentation: https://pandas.pydata.org/pandas-docs/stable/user_guide/indexing.html#returning-a-view-versus-a-copy\n",
      "  sf['DLHL_YN'] = sf['DLHL_YN'].map({'Y': 1, 'N': 0})\n",
      "/var/folders/n2/fnwtrxs13n10mlfx7sftx0t00000gn/T/ipykernel_18213/400538200.py:3: SettingWithCopyWarning: \n",
      "A value is trying to be set on a copy of a slice from a DataFrame.\n",
      "Try using .loc[row_indexer,col_indexer] = value instead\n",
      "\n",
      "See the caveats in the documentation: https://pandas.pydata.org/pandas-docs/stable/user_guide/indexing.html#returning-a-view-versus-a-copy\n",
      "  sf['POOL'] = sf['POOL'].map({'Y': 1, 'N': 0})\n",
      "/var/folders/n2/fnwtrxs13n10mlfx7sftx0t00000gn/T/ipykernel_18213/400538200.py:4: SettingWithCopyWarning: \n",
      "A value is trying to be set on a copy of a slice from a DataFrame.\n",
      "Try using .loc[row_indexer,col_indexer] = value instead\n",
      "\n",
      "See the caveats in the documentation: https://pandas.pydata.org/pandas-docs/stable/user_guide/indexing.html#returning-a-view-versus-a-copy\n",
      "  sf['WATERFRONT_YN'] = sf['WATERFRONT_YN'].map({'Y': 1, 'N': 0})\n",
      "/var/folders/n2/fnwtrxs13n10mlfx7sftx0t00000gn/T/ipykernel_18213/400538200.py:5: SettingWithCopyWarning: \n",
      "A value is trying to be set on a copy of a slice from a DataFrame.\n",
      "Try using .loc[row_indexer,col_indexer] = value instead\n",
      "\n",
      "See the caveats in the documentation: https://pandas.pydata.org/pandas-docs/stable/user_guide/indexing.html#returning-a-view-versus-a-copy\n",
      "  sf['CLUBHOUSE'] = sf['CLUBHOUSE'].map({'Yes': 1, 'No': 0})\n",
      "/var/folders/n2/fnwtrxs13n10mlfx7sftx0t00000gn/T/ipykernel_18213/400538200.py:6: SettingWithCopyWarning: \n",
      "A value is trying to be set on a copy of a slice from a DataFrame.\n",
      "Try using .loc[row_indexer,col_indexer] = value instead\n",
      "\n",
      "See the caveats in the documentation: https://pandas.pydata.org/pandas-docs/stable/user_guide/indexing.html#returning-a-view-versus-a-copy\n",
      "  sf['MARINA'] = sf['MARINA'].map({'Yes': 1, 'No': 0})\n",
      "/var/folders/n2/fnwtrxs13n10mlfx7sftx0t00000gn/T/ipykernel_18213/400538200.py:7: SettingWithCopyWarning: \n",
      "A value is trying to be set on a copy of a slice from a DataFrame.\n",
      "Try using .loc[row_indexer,col_indexer] = value instead\n",
      "\n",
      "See the caveats in the documentation: https://pandas.pydata.org/pandas-docs/stable/user_guide/indexing.html#returning-a-view-versus-a-copy\n",
      "  sf['TENNIS'] = sf['TENNIS'].map({'Yes': 1, 'No': 0})\n"
     ]
    }
   ],
   "source": [
    "sf['SEAWALL'] = sf['SEAWALL'].map({'Yes': 1, 'No': 0})\n",
    "sf['DLHL_YN'] = sf['DLHL_YN'].map({'Y': 1, 'N': 0})\n",
    "sf['POOL'] = sf['POOL'].map({'Y': 1, 'N': 0})\n",
    "sf['WATERFRONT_YN'] = sf['WATERFRONT_YN'].map({'Y': 1, 'N': 0})\n",
    "sf['CLUBHOUSE'] = sf['CLUBHOUSE'].map({'Yes': 1, 'No': 0})\n",
    "sf['MARINA'] = sf['MARINA'].map({'Yes': 1, 'No': 0})\n",
    "sf['TENNIS'] = sf['TENNIS'].map({'Yes': 1, 'No': 0})"
   ]
  },
  {
   "cell_type": "code",
   "execution_count": null,
   "id": "65c5b0d7",
   "metadata": {},
   "outputs": [],
   "source": []
  }
 ],
 "metadata": {
  "kernelspec": {
   "display_name": "myenv",
   "language": "python",
   "name": "python3"
  },
  "language_info": {
   "codemirror_mode": {
    "name": "ipython",
    "version": 3
   },
   "file_extension": ".py",
   "mimetype": "text/x-python",
   "name": "python",
   "nbconvert_exporter": "python",
   "pygments_lexer": "ipython3",
   "version": "3.8.19"
  }
 },
 "nbformat": 4,
 "nbformat_minor": 5
}
